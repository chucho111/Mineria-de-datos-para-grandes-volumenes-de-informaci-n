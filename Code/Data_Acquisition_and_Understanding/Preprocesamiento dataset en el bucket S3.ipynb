{
 "cells": [
  {
   "cell_type": "markdown",
   "metadata": {},
   "source": [
    "# Pasos a seguir.\n",
    "\n",
    "1. Importamos las librerias necesarias.\n",
    "2. Consolidamos la información de las imagenes que tienen una sola caracteristica con la siguiente estructura:\n",
    "    - año: Corresponde al año del dataset de la imagen.\n",
    "    - split: Indica si esta imagen se utilizó en \"train, test, val\".\n",
    "    - nombreImg: Nombre de la imagen.\n",
    "    - caract_nombre: Caracteristica de la imagen en forma de texto.\n",
    "    - caract_valor: Numero de veces que se repite la caracteristica en la imagen.\n",
    "    - caract_nombre_num: Caracteristica de la imagen en forma de numero.\n",
    "3. Copiamos la imagen al nuevo bucket con la siguiente estructura:\n",
    "    - Nombre del bucket \"proyecto-agricultura-precision-mineria\".\n",
    "        - dataset\n",
    "            - train.\n",
    "                - rgb.\n",
    "                    - double_plant.\n",
    "                    - weed_cluster.\n",
    "                    - drydown.\n",
    "                    - water.\n",
    "                    - planter_skip.\n",
    "                    - endrow.\n",
    "                    - storm_damage.\n",
    "                    - nutrient_deficiency.\n",
    "                    - waterway.\n",
    "                - nir.\n",
    "                    - double_plant.\n",
    "                    - weed_cluster.\n",
    "                    - drydown.\n",
    "                    - water.\n",
    "                    - planter_skip.\n",
    "                    - endrow.\n",
    "                    - storm_damage.\n",
    "                    - nutrient_deficiency.\n",
    "                    - waterway.\n",
    "                - bounds.\n",
    "                    - double_plant.\n",
    "                    - weed_cluster.\n",
    "                    - drydown.\n",
    "                    - water.\n",
    "                    - planter_skip.\n",
    "                    - endrow.\n",
    "                    - storm_damage.\n",
    "                    - nutrient_deficiency.\n",
    "                    - waterway.\n",
    "                - masks.\n",
    "                    - double_plant.\n",
    "                    - weed_cluster.\n",
    "                    - drydown.\n",
    "                    - water.\n",
    "                    - planter_skip.\n",
    "                    - endrow.\n",
    "                    - storm_damage.\n",
    "                    - nutrient_deficiency.\n",
    "                    - waterway.\n",
    "            - test\n",
    "                - rgb.\n",
    "                    - double_plant.\n",
    "                    - weed_cluster.\n",
    "                    - drydown.\n",
    "                    - water.\n",
    "                    - planter_skip.\n",
    "                    - endrow.\n",
    "                    - storm_damage.\n",
    "                    - nutrient_deficiency.\n",
    "                    - waterway.\n",
    "                - nir.\n",
    "                    - double_plant.\n",
    "                    - weed_cluster.\n",
    "                    - drydown.\n",
    "                    - water.\n",
    "                    - planter_skip.\n",
    "                    - endrow.\n",
    "                    - storm_damage.\n",
    "                    - nutrient_deficiency.\n",
    "                    - waterway.\n",
    "                - bounds.\n",
    "                    - double_plant.\n",
    "                    - weed_cluster.\n",
    "                    - drydown.\n",
    "                    - water.\n",
    "                    - planter_skip.\n",
    "                    - endrow.\n",
    "                    - storm_damage.\n",
    "                    - nutrient_deficiency.\n",
    "                    - waterway.\n",
    "                - masks.\n",
    "                    - double_plant.\n",
    "                    - weed_cluster.\n",
    "                    - drydown.\n",
    "                    - water.\n",
    "                    - planter_skip.\n",
    "                    - endrow.\n",
    "                    - storm_damage.\n",
    "                    - nutrient_deficiency.\n",
    "                    - waterway."
   ]
  },
  {
   "cell_type": "code",
   "execution_count": 10,
   "metadata": {},
   "outputs": [
    {
     "name": "stderr",
     "output_type": "stream",
     "text": [
      "\n",
      "usage: aws s3 cp <LocalPath> <S3Uri> or <S3Uri> <LocalPath> or <S3Uri> <S3Uri>\n",
      "Error: Invalid argument type\n"
     ]
    }
   ],
   "source": [
    "! aws s3 cp 'C:\\Users\\57322\\Downloads\\consolidada\\dataset-mineria' 's3://agriculture-vision-analitics/dataset-min/' --recursive"
   ]
  },
  {
   "cell_type": "code",
   "execution_count": 9,
   "metadata": {},
   "outputs": [
    {
     "name": "stdout",
     "output_type": "stream",
     "text": [
      " El volumen de la unidad C no tiene etiqueta.\n",
      " El n£mero de serie del volumen es: 4AFC-256E\n",
      "\n",
      " Directorio de C:\\Users\\57322\\Downloads\\consolidada\n",
      "\n",
      "27/04/2021  09:14 p.ÿm.    <DIR>          .\n",
      "27/04/2021  09:14 p.ÿm.    <DIR>          ..\n",
      "27/04/2021  12:41 a.ÿm.    <DIR>          .ipynb_checkpoints\n",
      "09/11/2019  12:30 a.ÿm.    <DIR>          data2017_miniscale\n",
      "07/02/2021  10:58 p.ÿm.     1.879.589.036 data2017_miniscale.tar\n",
      "09/11/2019  12:31 a.ÿm.    <DIR>          data2018_miniscale\n",
      "12/02/2021  12:34 a.ÿm.    13.662.811.864 data2018_miniscale.tar\n",
      "09/11/2019  12:47 a.ÿm.    <DIR>          data2019_miniscale\n",
      "12/02/2021  12:05 a.ÿm.     5.525.607.119 data2019_miniscale.tar\n",
      "27/04/2021  12:18 a.ÿm.         5.069.186 dataFinalUnicos.csv\n",
      "27/04/2021  10:40 a.ÿm.    <DIR>          dataset-estadistica\n",
      "27/04/2021  02:49 p.ÿm.       327.004.160 dataset-estadistica.tar\n",
      "27/04/2021  07:54 p.ÿm.       317.074.082 dataset-estadistica.zip\n",
      "27/04/2021  12:46 a.ÿm.    <DIR>          dataset-mineria\n",
      "27/04/2021  11:53 a.ÿm.    20.433.940.480 dataset-mineria.tar\n",
      "27/04/2021  07:47 p.ÿm.     8.996.782.080 dataset-mineria.tar.gz\n",
      "27/04/2021  09:14 p.ÿm.            67.041 preprocesamiento dataset en el bucket bounds (2).ipynb\n",
      "27/04/2021  03:18 p.ÿm.    <DIR>          prueba\n",
      "27/04/2021  10:48 a.ÿm.            25.047 Untitled.ipynb\n",
      "              10 archivos 51.147.970.095 bytes\n",
      "               9 dirs   1.230.929.920 bytes libres\n"
     ]
    }
   ],
   "source": [
    "!dir"
   ]
  },
  {
   "cell_type": "markdown",
   "metadata": {},
   "source": [
    "# 1."
   ]
  },
  {
   "cell_type": "code",
   "execution_count": 1,
   "metadata": {},
   "outputs": [],
   "source": [
    "import sagemaker\n",
    "import boto3\n",
    "from sagemaker import get_execution_role\n",
    "import json\n",
    "import pandas as pd\n",
    "import matplotlib.image as mpimg\n",
    "from io import BytesIO\n",
    "import matplotlib.pyplot as plt\n",
    "from glob import glob"
   ]
  },
  {
   "cell_type": "markdown",
   "metadata": {},
   "source": [
    "# 2."
   ]
  },
  {
   "cell_type": "code",
   "execution_count": 2,
   "metadata": {},
   "outputs": [
    {
     "name": "stdout",
     "output_type": "stream",
     "text": [
      "arn:aws:iam::280664433992:role/service-role/AmazonSageMaker-ExecutionRole-20210425T183491\n"
     ]
    }
   ],
   "source": [
    "# Verifico el rol.\n",
    "role = get_execution_role()\n",
    "print(role)"
   ]
  },
  {
   "cell_type": "code",
   "execution_count": 3,
   "metadata": {},
   "outputs": [
    {
     "name": "stdout",
     "output_type": "stream",
     "text": [
      "us-east-1\n"
     ]
    }
   ],
   "source": [
    "# Verifico la región.\n",
    "region = boto3.Session().region_name\n",
    "print(region)"
   ]
  },
  {
   "cell_type": "code",
   "execution_count": 4,
   "metadata": {},
   "outputs": [],
   "source": [
    "s3r = boto3.resource('s3')"
   ]
  },
  {
   "cell_type": "code",
   "execution_count": 5,
   "metadata": {},
   "outputs": [
    {
     "name": "stdout",
     "output_type": "stream",
     "text": [
      "Los archivos json de información fueron leidos en los diccionarios data[]... ['2017', '2018', '2019']\n"
     ]
    }
   ],
   "source": [
    "# Leemos los archivos donde se encuentra la información de cada imagen.\n",
    "BUCKET_NAME = 'agriculture-vision-analitics'\n",
    "keys = ['Dataset/data2017_miniscale/field_stats.json','Dataset/data2018_miniscale/field_stats.json','Dataset/data2019_miniscale/field_stats.json']\n",
    "# paths = [r'C:\\Users\\cese\\AgricultureVision\\field_stats_2017.json',r'C:\\Users\\cese\\AgricultureVision\\field_stats_2018.json',r'C:\\Users\\cese\\AgricultureVision\\field_stats_2019.json']\n",
    "data = dict()\n",
    "years = []\n",
    "ixdata = []\n",
    "for ix, keyix in enumerate (keys):\n",
    "#    with open(path, 'r') as myfile:\n",
    "        year=keys[ix][12:16]\n",
    "        years.append(year)\n",
    "        datajson=s3r.Object(BUCKET_NAME, keyix).get()['Body'].read()\n",
    "        #datajson=myfile.read()\n",
    "        data[year]=json.loads(datajson) \n",
    "print('Los archivos json de información fueron leidos en los diccionarios data[]...',years)"
   ]
  },
  {
   "cell_type": "code",
   "execution_count": 6,
   "metadata": {},
   "outputs": [
    {
     "data": {
      "text/html": [
       "<div>\n",
       "<style scoped>\n",
       "    .dataframe tbody tr th:only-of-type {\n",
       "        vertical-align: middle;\n",
       "    }\n",
       "\n",
       "    .dataframe tbody tr th {\n",
       "        vertical-align: top;\n",
       "    }\n",
       "\n",
       "    .dataframe thead th {\n",
       "        text-align: right;\n",
       "    }\n",
       "</style>\n",
       "<table border=\"1\" class=\"dataframe\">\n",
       "  <thead>\n",
       "    <tr style=\"text-align: right;\">\n",
       "      <th></th>\n",
       "      <th>año</th>\n",
       "      <th>split</th>\n",
       "      <th>imagen</th>\n",
       "      <th>caract_grupo</th>\n",
       "      <th>caract_nombre</th>\n",
       "      <th>caract_valor</th>\n",
       "      <th>caract_valor_onehot</th>\n",
       "    </tr>\n",
       "  </thead>\n",
       "  <tbody>\n",
       "    <tr>\n",
       "      <th>0</th>\n",
       "      <td>2017</td>\n",
       "      <td>train</td>\n",
       "      <td>../datasets/data2017_miniscale/field_bounds/KF...</td>\n",
       "      <td>label_counts</td>\n",
       "      <td>planter_skip</td>\n",
       "      <td>0</td>\n",
       "      <td>0</td>\n",
       "    </tr>\n",
       "    <tr>\n",
       "      <th>1</th>\n",
       "      <td>2017</td>\n",
       "      <td>train</td>\n",
       "      <td>../datasets/data2017_miniscale/field_bounds/KF...</td>\n",
       "      <td>label_counts</td>\n",
       "      <td>water</td>\n",
       "      <td>0</td>\n",
       "      <td>0</td>\n",
       "    </tr>\n",
       "    <tr>\n",
       "      <th>2</th>\n",
       "      <td>2017</td>\n",
       "      <td>train</td>\n",
       "      <td>../datasets/data2017_miniscale/field_bounds/KF...</td>\n",
       "      <td>label_counts</td>\n",
       "      <td>weed_cluster</td>\n",
       "      <td>0</td>\n",
       "      <td>0</td>\n",
       "    </tr>\n",
       "  </tbody>\n",
       "</table>\n",
       "</div>"
      ],
      "text/plain": [
       "    año  split                                             imagen  \\\n",
       "0  2017  train  ../datasets/data2017_miniscale/field_bounds/KF...   \n",
       "1  2017  train  ../datasets/data2017_miniscale/field_bounds/KF...   \n",
       "2  2017  train  ../datasets/data2017_miniscale/field_bounds/KF...   \n",
       "\n",
       "   caract_grupo caract_nombre  caract_valor  caract_valor_onehot  \n",
       "0  label_counts  planter_skip             0                    0  \n",
       "1  label_counts         water             0                    0  \n",
       "2  label_counts  weed_cluster             0                    0  "
      ]
     },
     "execution_count": 6,
     "metadata": {},
     "output_type": "execute_result"
    }
   ],
   "source": [
    "# Cargamos el dataset para cada splits.\n",
    "splits = ['train','test','val']\n",
    "#dflabel_counts = pd.DataFrame(columns=['año','split','imagen','caract_grupo','caract_nombre','caract_grupo']) \n",
    "label_counts_list = []\n",
    "for year in years:\n",
    "    for split in splits:\n",
    "        for idx_imagen, nombre_imagen in enumerate(data[year][split]):\n",
    "            caract_nombre = list(data[year][split][nombre_imagen][\"label_counts\"].keys())\n",
    "            caract_valor = list(data[year][split][nombre_imagen][\"label_counts\"].values())\n",
    "            for nombre,valor in zip(caract_nombre,caract_valor):\n",
    "                label_counts_list.append([year,split,nombre_imagen,'label_counts',nombre,valor])\n",
    "dflabel_counts=pd.DataFrame(label_counts_list,columns=['año','split','imagen','caract_grupo','caract_nombre','caract_valor'])\n",
    "dflabel_counts['caract_valor_onehot']=(dflabel_counts.caract_valor>0).astype(int)\n",
    "dflabel_counts.head(3)"
   ]
  },
  {
   "cell_type": "code",
   "execution_count": 7,
   "metadata": {},
   "outputs": [
    {
     "name": "stdout",
     "output_type": "stream",
     "text": [
      "Cantidad de imagenes que tienes mas de una caracteristica: 5869\n"
     ]
    }
   ],
   "source": [
    "# identificamos las imagenes que tienen mas de una caracteristicas en este caso no nos interesan.\n",
    "imgVariasCaract = dflabel_counts.groupby(['imagen'])['caract_valor_onehot'].sum()\n",
    "imgVariasCaract = pd.DataFrame(imgVariasCaract)\n",
    "imgVariasCaract = imgVariasCaract.query('caract_valor_onehot > 1')\n",
    "imgVariasCaract = imgVariasCaract.reset_index()\n",
    "imgVariasCaract = imgVariasCaract.imagen\n",
    "imgVariasCaract = pd.DataFrame(imgVariasCaract)\n",
    "print(\"Cantidad de imagenes que tienes mas de una caracteristica: \" + str(len(imgVariasCaract)))"
   ]
  },
  {
   "cell_type": "code",
   "execution_count": 8,
   "metadata": {},
   "outputs": [
    {
     "data": {
      "text/html": [
       "<div>\n",
       "<style scoped>\n",
       "    .dataframe tbody tr th:only-of-type {\n",
       "        vertical-align: middle;\n",
       "    }\n",
       "\n",
       "    .dataframe tbody tr th {\n",
       "        vertical-align: top;\n",
       "    }\n",
       "\n",
       "    .dataframe thead th {\n",
       "        text-align: right;\n",
       "    }\n",
       "</style>\n",
       "<table border=\"1\" class=\"dataframe\">\n",
       "  <thead>\n",
       "    <tr style=\"text-align: right;\">\n",
       "      <th></th>\n",
       "      <th>año</th>\n",
       "      <th>split</th>\n",
       "      <th>imagen</th>\n",
       "      <th>caract_grupo</th>\n",
       "      <th>caract_nombre</th>\n",
       "      <th>caract_valor</th>\n",
       "      <th>caract_valor_onehot</th>\n",
       "    </tr>\n",
       "  </thead>\n",
       "  <tbody>\n",
       "    <tr>\n",
       "      <th>6</th>\n",
       "      <td>2017</td>\n",
       "      <td>train</td>\n",
       "      <td>../datasets/data2017_miniscale/field_bounds/KF...</td>\n",
       "      <td>label_counts</td>\n",
       "      <td>double_plant</td>\n",
       "      <td>1</td>\n",
       "      <td>1</td>\n",
       "    </tr>\n",
       "    <tr>\n",
       "      <th>11</th>\n",
       "      <td>2017</td>\n",
       "      <td>train</td>\n",
       "      <td>../datasets/data2017_miniscale/field_bounds/FM...</td>\n",
       "      <td>label_counts</td>\n",
       "      <td>weed_cluster</td>\n",
       "      <td>1</td>\n",
       "      <td>1</td>\n",
       "    </tr>\n",
       "    <tr>\n",
       "      <th>21</th>\n",
       "      <td>2017</td>\n",
       "      <td>train</td>\n",
       "      <td>../datasets/data2017_miniscale/field_bounds/8G...</td>\n",
       "      <td>label_counts</td>\n",
       "      <td>drydown</td>\n",
       "      <td>2</td>\n",
       "      <td>1</td>\n",
       "    </tr>\n",
       "    <tr>\n",
       "      <th>30</th>\n",
       "      <td>2017</td>\n",
       "      <td>train</td>\n",
       "      <td>../datasets/data2017_miniscale/field_bounds/BL...</td>\n",
       "      <td>label_counts</td>\n",
       "      <td>drydown</td>\n",
       "      <td>1</td>\n",
       "      <td>1</td>\n",
       "    </tr>\n",
       "    <tr>\n",
       "      <th>42</th>\n",
       "      <td>2017</td>\n",
       "      <td>train</td>\n",
       "      <td>../datasets/data2017_miniscale/field_bounds/AL...</td>\n",
       "      <td>label_counts</td>\n",
       "      <td>double_plant</td>\n",
       "      <td>6</td>\n",
       "      <td>1</td>\n",
       "    </tr>\n",
       "  </tbody>\n",
       "</table>\n",
       "</div>"
      ],
      "text/plain": [
       "     año  split                                             imagen  \\\n",
       "6   2017  train  ../datasets/data2017_miniscale/field_bounds/KF...   \n",
       "11  2017  train  ../datasets/data2017_miniscale/field_bounds/FM...   \n",
       "21  2017  train  ../datasets/data2017_miniscale/field_bounds/8G...   \n",
       "30  2017  train  ../datasets/data2017_miniscale/field_bounds/BL...   \n",
       "42  2017  train  ../datasets/data2017_miniscale/field_bounds/AL...   \n",
       "\n",
       "    caract_grupo caract_nombre  caract_valor  caract_valor_onehot  \n",
       "6   label_counts  double_plant             1                    1  \n",
       "11  label_counts  weed_cluster             1                    1  \n",
       "21  label_counts       drydown             2                    1  \n",
       "30  label_counts       drydown             1                    1  \n",
       "42  label_counts  double_plant             6                    1  "
      ]
     },
     "execution_count": 8,
     "metadata": {},
     "output_type": "execute_result"
    }
   ],
   "source": [
    "# Quitamos las imagenes que tienes mas de una caracteristica.\n",
    "dataFinal = dflabel_counts.query('caract_valor_onehot == 1')\n",
    "dataFinal = dataFinal.query('imagen not in @imgVariasCaract.imagen')\n",
    "dataFinal.head()"
   ]
  },
  {
   "cell_type": "code",
   "execution_count": 9,
   "metadata": {},
   "outputs": [
    {
     "name": "stdout",
     "output_type": "stream",
     "text": [
      "RESUMEN: \n",
      "\n",
      "En total son: 94986 imagenes.\n",
      "De las cuales 5869 tienen mas de 1 caracteristica.\n",
      "El numero de imagenes que tienen 1 sola caracteristica con las que vamos a trabajar son:89117\n"
     ]
    }
   ],
   "source": [
    "print(\"RESUMEN: \\n\")\n",
    "print(\"En total son: \" + str(len(dflabel_counts.imagen.unique())) + \" imagenes.\")\n",
    "print(\"De las cuales \"+ str(len(imgVariasCaract)) + \" tienen mas de 1 caracteristica.\")\n",
    "print(\"El numero de imagenes que tienen 1 sola caracteristica con las que vamos a trabajar son:\" + str(len(dataFinal.imagen.unique())))"
   ]
  },
  {
   "cell_type": "code",
   "execution_count": 10,
   "metadata": {},
   "outputs": [
    {
     "data": {
      "text/html": [
       "<div>\n",
       "<style scoped>\n",
       "    .dataframe tbody tr th:only-of-type {\n",
       "        vertical-align: middle;\n",
       "    }\n",
       "\n",
       "    .dataframe tbody tr th {\n",
       "        vertical-align: top;\n",
       "    }\n",
       "\n",
       "    .dataframe thead th {\n",
       "        text-align: right;\n",
       "    }\n",
       "</style>\n",
       "<table border=\"1\" class=\"dataframe\">\n",
       "  <thead>\n",
       "    <tr style=\"text-align: right;\">\n",
       "      <th></th>\n",
       "      <th>año</th>\n",
       "      <th>split</th>\n",
       "      <th>nombreImg</th>\n",
       "      <th>caract_nombre</th>\n",
       "      <th>caract_valor</th>\n",
       "    </tr>\n",
       "  </thead>\n",
       "  <tbody>\n",
       "    <tr>\n",
       "      <th>6</th>\n",
       "      <td>2017</td>\n",
       "      <td>train</td>\n",
       "      <td>KFK97F7D8_3452-1417-3964-1929</td>\n",
       "      <td>double_plant</td>\n",
       "      <td>1</td>\n",
       "    </tr>\n",
       "    <tr>\n",
       "      <th>11</th>\n",
       "      <td>2017</td>\n",
       "      <td>train</td>\n",
       "      <td>FMWV83TKN_964-4605-1476-5117</td>\n",
       "      <td>weed_cluster</td>\n",
       "      <td>1</td>\n",
       "    </tr>\n",
       "    <tr>\n",
       "      <th>21</th>\n",
       "      <td>2017</td>\n",
       "      <td>train</td>\n",
       "      <td>8GCECX616_894-1569-1406-2081</td>\n",
       "      <td>drydown</td>\n",
       "      <td>2</td>\n",
       "    </tr>\n",
       "    <tr>\n",
       "      <th>30</th>\n",
       "      <td>2017</td>\n",
       "      <td>train</td>\n",
       "      <td>BLJ7WL94I_967-463-1479-975</td>\n",
       "      <td>drydown</td>\n",
       "      <td>1</td>\n",
       "    </tr>\n",
       "    <tr>\n",
       "      <th>42</th>\n",
       "      <td>2017</td>\n",
       "      <td>train</td>\n",
       "      <td>AL19NWKKB_1713-1209-2225-1721</td>\n",
       "      <td>double_plant</td>\n",
       "      <td>6</td>\n",
       "    </tr>\n",
       "  </tbody>\n",
       "</table>\n",
       "</div>"
      ],
      "text/plain": [
       "     año  split                      nombreImg caract_nombre  caract_valor\n",
       "6   2017  train  KFK97F7D8_3452-1417-3964-1929  double_plant             1\n",
       "11  2017  train   FMWV83TKN_964-4605-1476-5117  weed_cluster             1\n",
       "21  2017  train   8GCECX616_894-1569-1406-2081       drydown             2\n",
       "30  2017  train     BLJ7WL94I_967-463-1479-975       drydown             1\n",
       "42  2017  train  AL19NWKKB_1713-1209-2225-1721  double_plant             6"
      ]
     },
     "execution_count": 10,
     "metadata": {},
     "output_type": "execute_result"
    }
   ],
   "source": [
    "# Solo me quedo con el nombre de la imagen.\n",
    "new = dataFinal[\"imagen\"].str.split(\"/\", n = 4, expand = True)\n",
    "new_ = new[4].str.split(\".png\", n = 2, expand = True)\n",
    "dataFinal[\"nombreImg\"]= new_[0]\n",
    "dataFinalUnicos = dataFinal[['año', 'split', 'nombreImg', 'caract_nombre', 'caract_valor']]\n",
    "dataFinalUnicos.head()"
   ]
  },
  {
   "cell_type": "code",
   "execution_count": 11,
   "metadata": {},
   "outputs": [
    {
     "name": "stderr",
     "output_type": "stream",
     "text": [
      "/home/ec2-user/anaconda3/envs/python3/lib/python3.6/site-packages/ipykernel/__main__.py:3: SettingWithCopyWarning: \n",
      "A value is trying to be set on a copy of a slice from a DataFrame.\n",
      "Try using .loc[row_indexer,col_indexer] = value instead\n",
      "\n",
      "See the caveats in the documentation: https://pandas.pydata.org/pandas-docs/stable/user_guide/indexing.html#returning-a-view-versus-a-copy\n",
      "  app.launch_new_instance()\n"
     ]
    },
    {
     "data": {
      "text/html": [
       "<div>\n",
       "<style scoped>\n",
       "    .dataframe tbody tr th:only-of-type {\n",
       "        vertical-align: middle;\n",
       "    }\n",
       "\n",
       "    .dataframe tbody tr th {\n",
       "        vertical-align: top;\n",
       "    }\n",
       "\n",
       "    .dataframe thead th {\n",
       "        text-align: right;\n",
       "    }\n",
       "</style>\n",
       "<table border=\"1\" class=\"dataframe\">\n",
       "  <thead>\n",
       "    <tr style=\"text-align: right;\">\n",
       "      <th></th>\n",
       "      <th>año</th>\n",
       "      <th>split</th>\n",
       "      <th>nombreImg</th>\n",
       "      <th>caract_nombre</th>\n",
       "      <th>caract_valor</th>\n",
       "      <th>caract_nombre_num</th>\n",
       "    </tr>\n",
       "  </thead>\n",
       "  <tbody>\n",
       "    <tr>\n",
       "      <th>6</th>\n",
       "      <td>2017</td>\n",
       "      <td>train</td>\n",
       "      <td>KFK97F7D8_3452-1417-3964-1929</td>\n",
       "      <td>double_plant</td>\n",
       "      <td>1</td>\n",
       "      <td>0</td>\n",
       "    </tr>\n",
       "    <tr>\n",
       "      <th>11</th>\n",
       "      <td>2017</td>\n",
       "      <td>train</td>\n",
       "      <td>FMWV83TKN_964-4605-1476-5117</td>\n",
       "      <td>weed_cluster</td>\n",
       "      <td>1</td>\n",
       "      <td>1</td>\n",
       "    </tr>\n",
       "    <tr>\n",
       "      <th>21</th>\n",
       "      <td>2017</td>\n",
       "      <td>train</td>\n",
       "      <td>8GCECX616_894-1569-1406-2081</td>\n",
       "      <td>drydown</td>\n",
       "      <td>2</td>\n",
       "      <td>2</td>\n",
       "    </tr>\n",
       "    <tr>\n",
       "      <th>30</th>\n",
       "      <td>2017</td>\n",
       "      <td>train</td>\n",
       "      <td>BLJ7WL94I_967-463-1479-975</td>\n",
       "      <td>drydown</td>\n",
       "      <td>1</td>\n",
       "      <td>2</td>\n",
       "    </tr>\n",
       "    <tr>\n",
       "      <th>42</th>\n",
       "      <td>2017</td>\n",
       "      <td>train</td>\n",
       "      <td>AL19NWKKB_1713-1209-2225-1721</td>\n",
       "      <td>double_plant</td>\n",
       "      <td>6</td>\n",
       "      <td>0</td>\n",
       "    </tr>\n",
       "  </tbody>\n",
       "</table>\n",
       "</div>"
      ],
      "text/plain": [
       "     año  split                      nombreImg caract_nombre  caract_valor  \\\n",
       "6   2017  train  KFK97F7D8_3452-1417-3964-1929  double_plant             1   \n",
       "11  2017  train   FMWV83TKN_964-4605-1476-5117  weed_cluster             1   \n",
       "21  2017  train   8GCECX616_894-1569-1406-2081       drydown             2   \n",
       "30  2017  train     BLJ7WL94I_967-463-1479-975       drydown             1   \n",
       "42  2017  train  AL19NWKKB_1713-1209-2225-1721  double_plant             6   \n",
       "\n",
       "    caract_nombre_num  \n",
       "6                   0  \n",
       "11                  1  \n",
       "21                  2  \n",
       "30                  2  \n",
       "42                  0  "
      ]
     },
     "execution_count": 11,
     "metadata": {},
     "output_type": "execute_result"
    }
   ],
   "source": [
    "# Le asigno un numero a la categoria\n",
    "ordinal_label = {k: i for i, k in enumerate(dataFinalUnicos['caract_nombre'].unique(), 0)}\n",
    "dataFinalUnicos['caract_nombre_num'] = dataFinalUnicos['caract_nombre'].map(ordinal_label)\n",
    "dataFinalUnicos.head()"
   ]
  },
  {
   "cell_type": "code",
   "execution_count": 12,
   "metadata": {},
   "outputs": [
    {
     "name": "stdout",
     "output_type": "stream",
     "text": [
      "['double_plant' 'weed_cluster' 'drydown' 'water' 'planter_skip' 'endrow'\n",
      " 'storm_damage' 'nutrient_deficiency' 'waterway']\n",
      "[0 1 2 3 4 5 6 7 8]\n"
     ]
    }
   ],
   "source": [
    "print(dataFinalUnicos.caract_nombre.unique())\n",
    "print(dataFinalUnicos.caract_nombre_num.unique())"
   ]
  },
  {
   "cell_type": "code",
   "execution_count": 14,
   "metadata": {},
   "outputs": [],
   "source": [
    "dataFinalUnicos.to_csv(\"dataFinalUnicos.csv\", sep=',', index=False)"
   ]
  },
  {
   "cell_type": "markdown",
   "metadata": {},
   "source": [
    "# 3."
   ]
  },
  {
   "cell_type": "code",
   "execution_count": 13,
   "metadata": {},
   "outputs": [
    {
     "name": "stdout",
     "output_type": "stream",
     "text": [
      "Bucket S3 creado con éxito\n"
     ]
    }
   ],
   "source": [
    "# Creo el bucket donde voy alojar las imagenes ordenadas\n",
    "bucket_name = \"proyecto-agricultura-precision-mineria\"\n",
    "try:\n",
    "    if  region == 'us-east-1':\n",
    "        s3r.create_bucket(Bucket=bucket_name)\n",
    "    print('Bucket S3 creado con éxito')\n",
    "except Exception as e:\n",
    "    print('S3 error: ',e)"
   ]
  },
  {
   "cell_type": "code",
   "execution_count": 15,
   "metadata": {},
   "outputs": [],
   "source": [
    "# Ordenamos las imagenes de entrenamiento para la caracteristica\n",
    "train_val_double_plant = dataFinalUnicos.query('caract_nombre == \"double_plant\" and split in (\"train\",\"val\")')\n",
    "train_val_weed_cluster = dataFinalUnicos.query('caract_nombre == \"weed_cluster\" and split in (\"train\",\"val\")')\n",
    "train_val_drydown = dataFinalUnicos.query('caract_nombre == \"drydown\" and split in (\"train\",\"val\")')\n",
    "train_val_water = dataFinalUnicos.query('caract_nombre == \"water\" and split in (\"train\",\"val\")')\n",
    "train_val_planter_skip = dataFinalUnicos.query('caract_nombre == \"planter_skip\" and split in (\"train\",\"val\")')\n",
    "train_val_endrow = dataFinalUnicos.query('caract_nombre == \"endrow\" and split in (\"train\",\"val\")')\n",
    "train_val_storm_damage = dataFinalUnicos.query('caract_nombre == \"storm_damage\" and split in (\"train\",\"val\")')\n",
    "train_val_nutrient_deficiency = dataFinalUnicos.query('caract_nombre == \"nutrient_deficiency\" and split in (\"train\",\"val\")')\n",
    "train_val_waterway = dataFinalUnicos.query('caract_nombre == \"waterway\" and split in (\"train\",\"val\")')"
   ]
  },
  {
   "cell_type": "code",
   "execution_count": 21,
   "metadata": {},
   "outputs": [],
   "source": [
    "total = (len(train_val_double_plant) +\n",
    "      len(train_val_weed_cluster) + len(train_val_drydown) + len(train_val_water) +\n",
    "      len(train_val_planter_skip) + len(train_val_endrow) + len(train_val_storm_damage) +\n",
    "      len(train_val_nutrient_deficiency) + len(train_val_waterway))"
   ]
  },
  {
   "cell_type": "code",
   "execution_count": 23,
   "metadata": {},
   "outputs": [
    {
     "name": "stdout",
     "output_type": "stream",
     "text": [
      "Total de imagenes entrenamiento y validación: 70545\n"
     ]
    }
   ],
   "source": [
    "print(\"Total de imagenes entrenamiento y validación: \" + str(total))"
   ]
  },
  {
   "cell_type": "code",
   "execution_count": 26,
   "metadata": {},
   "outputs": [
    {
     "name": "stdout",
     "output_type": "stream",
     "text": [
      "double_plant: 5391\n",
      "weed_cluster: 12290\n",
      "drydown: 22484\n",
      "water: 2995\n",
      "planter_skip: 2726\n",
      "endrow: 3309\n",
      "storm_damage: 411\n",
      "nutrient_deficiency: 16813\n",
      "waterway: 4126\n"
     ]
    }
   ],
   "source": [
    "print(\"double_plant: \"+str(len(train_val_double_plant)))\n",
    "print(\"weed_cluster: \"+str(len(train_val_weed_cluster)))\n",
    "print(\"drydown: \"+str(len(train_val_drydown)))\n",
    "print(\"water: \"+str(len(train_val_water)))\n",
    "print(\"planter_skip: \"+str(len(train_val_planter_skip)))\n",
    "print(\"endrow: \"+str(len(train_val_endrow)))\n",
    "print(\"storm_damage: \"+str(len(train_val_storm_damage)))\n",
    "print(\"nutrient_deficiency: \"+str(len(train_val_nutrient_deficiency)))\n",
    "print(\"waterway: \"+str(len(train_val_waterway)))"
   ]
  },
  {
   "cell_type": "code",
   "execution_count": null,
   "metadata": {},
   "outputs": [
    {
     "name": "stdout",
     "output_type": "stream",
     "text": [
      "copy: s3://agriculture-vision-analitics/Dataset/data2017_miniscale/field_bounds/1DQUZKY8G_1759-304-2271-816.png to s3://proyecto-agricultura-precision-mineria/dataset/train/bounds/storm_damage/1DQUZKY8G_1759-304-2271-816.png\n",
      "copy: s3://agriculture-vision-analitics/Dataset/data2017_miniscale/field_bounds/1DQUZKY8G_2170-927-2682-1439.png to s3://proyecto-agricultura-precision-mineria/dataset/train/bounds/storm_damage/1DQUZKY8G_2170-927-2682-1439.png\n",
      "copy: s3://agriculture-vision-analitics/Dataset/data2018_miniscale/field_bounds/X32DPL33V_6094-3544-6606-4056.png to s3://proyecto-agricultura-precision-mineria/dataset/train/bounds/storm_damage/X32DPL33V_6094-3544-6606-4056.png\n",
      "copy: s3://agriculture-vision-analitics/Dataset/data2018_miniscale/field_bounds/QW9RQA76P_3819-1105-4331-1617.png to s3://proyecto-agricultura-precision-mineria/dataset/train/bounds/storm_damage/QW9RQA76P_3819-1105-4331-1617.png\n",
      "copy: s3://agriculture-vision-analitics/Dataset/data2018_miniscale/field_bounds/2ZTIQA3AV_2058-3981-2570-4493.png to s3://proyecto-agricultura-precision-mineria/dataset/train/bounds/storm_damage/2ZTIQA3AV_2058-3981-2570-4493.png\n",
      "copy: s3://agriculture-vision-analitics/Dataset/data2018_miniscale/field_bounds/X32DPL33V_3419-1081-3931-1593.png to s3://proyecto-agricultura-precision-mineria/dataset/train/bounds/storm_damage/X32DPL33V_3419-1081-3931-1593.png\n",
      "copy: s3://agriculture-vision-analitics/Dataset/data2018_miniscale/field_bounds/QW9RQA76P_4807-1227-5319-1739.png to s3://proyecto-agricultura-precision-mineria/dataset/train/bounds/storm_damage/QW9RQA76P_4807-1227-5319-1739.png\n",
      "copy: s3://agriculture-vision-analitics/Dataset/data2018_miniscale/field_bounds/QW9RQA76P_2317-1559-2829-2071.png to s3://proyecto-agricultura-precision-mineria/dataset/train/bounds/storm_damage/QW9RQA76P_2317-1559-2829-2071.png\n",
      "copy: s3://agriculture-vision-analitics/Dataset/data2018_miniscale/field_bounds/X32DPL33V_1370-7393-1882-7905.png to s3://proyecto-agricultura-precision-mineria/dataset/train/bounds/storm_damage/X32DPL33V_1370-7393-1882-7905.png\n",
      "copy: s3://agriculture-vision-analitics/Dataset/data2018_miniscale/field_bounds/X32DPL33V_3638-6740-4150-7252.png to s3://proyecto-agricultura-precision-mineria/dataset/train/bounds/storm_damage/X32DPL33V_3638-6740-4150-7252.png\n",
      "copy: s3://agriculture-vision-analitics/Dataset/data2018_miniscale/field_bounds/QW9RQA76P_7645-1012-8157-1524.png to s3://proyecto-agricultura-precision-mineria/dataset/train/bounds/storm_damage/QW9RQA76P_7645-1012-8157-1524.png\n",
      "copy: s3://agriculture-vision-analitics/Dataset/data2018_miniscale/field_bounds/X32DPL33V_2820-8058-3332-8570.png to s3://proyecto-agricultura-precision-mineria/dataset/train/bounds/storm_damage/X32DPL33V_2820-8058-3332-8570.png\n",
      "copy: s3://agriculture-vision-analitics/Dataset/data2018_miniscale/field_bounds/X32DPL33V_866-3529-1378-4041.png to s3://proyecto-agricultura-precision-mineria/dataset/train/bounds/storm_damage/X32DPL33V_866-3529-1378-4041.png\n",
      "copy: s3://agriculture-vision-analitics/Dataset/data2018_miniscale/field_bounds/DQEV2LHCV_10701-5116-11213-5628.png to s3://proyecto-agricultura-precision-mineria/dataset/train/bounds/storm_damage/DQEV2LHCV_10701-5116-11213-5628.png\n",
      "copy: s3://agriculture-vision-analitics/Dataset/data2018_miniscale/field_bounds/X32DPL33V_2735-6976-3247-7488.png to s3://proyecto-agricultura-precision-mineria/dataset/train/bounds/storm_damage/X32DPL33V_2735-6976-3247-7488.png\n",
      "copy: s3://agriculture-vision-analitics/Dataset/data2018_miniscale/field_bounds/ERUT1A634_6407-5580-6919-6092.png to s3://proyecto-agricultura-precision-mineria/dataset/train/bounds/storm_damage/ERUT1A634_6407-5580-6919-6092.png\n",
      "copy: s3://agriculture-vision-analitics/Dataset/data2018_miniscale/field_bounds/QW9RQA76P_7129-533-7641-1045.png to s3://proyecto-agricultura-precision-mineria/dataset/train/bounds/storm_damage/QW9RQA76P_7129-533-7641-1045.png\n",
      "copy: s3://agriculture-vision-analitics/Dataset/data2018_miniscale/field_bounds/2ZTIQA3AV_3463-3853-3975-4365.png to s3://proyecto-agricultura-precision-mineria/dataset/train/bounds/storm_damage/2ZTIQA3AV_3463-3853-3975-4365.png\n",
      "copy: s3://agriculture-vision-analitics/Dataset/data2018_miniscale/field_bounds/2ZTIQA3AV_6673-3922-7185-4434.png to s3://proyecto-agricultura-precision-mineria/dataset/train/bounds/storm_damage/2ZTIQA3AV_6673-3922-7185-4434.png\n",
      "copy: s3://agriculture-vision-analitics/Dataset/data2018_miniscale/field_bounds/X32DPL33V_4346-7169-4858-7681.png to s3://proyecto-agricultura-precision-mineria/dataset/train/bounds/storm_damage/X32DPL33V_4346-7169-4858-7681.png\n",
      "copy: s3://agriculture-vision-analitics/Dataset/data2018_miniscale/field_bounds/X32DPL33V_6094-5592-6606-6104.png to s3://proyecto-agricultura-precision-mineria/dataset/train/bounds/storm_damage/X32DPL33V_6094-5592-6606-6104.png\n",
      "copy: s3://agriculture-vision-analitics/Dataset/data2018_miniscale/field_bounds/QW9RQA76P_6081-1884-6593-2396.png to s3://proyecto-agricultura-precision-mineria/dataset/train/bounds/storm_damage/QW9RQA76P_6081-1884-6593-2396.png\n",
      "copy: s3://agriculture-vision-analitics/Dataset/data2018_miniscale/field_bounds/EZ4BZ8A21_2385-1727-2897-2239.png to s3://proyecto-agricultura-precision-mineria/dataset/train/bounds/storm_damage/EZ4BZ8A21_2385-1727-2897-2239.png\n",
      "copy: s3://agriculture-vision-analitics/Dataset/data2018_miniscale/field_bounds/DQEV2LHCV_6489-1006-7001-1518.png to s3://proyecto-agricultura-precision-mineria/dataset/train/bounds/storm_damage/DQEV2LHCV_6489-1006-7001-1518.png\n",
      "copy: s3://agriculture-vision-analitics/Dataset/data2018_miniscale/field_bounds/X32DPL33V_5070-1496-5582-2008.png to s3://proyecto-agricultura-precision-mineria/dataset/train/bounds/storm_damage/X32DPL33V_5070-1496-5582-2008.png\n",
      "copy: s3://agriculture-vision-analitics/Dataset/data2018_miniscale/field_bounds/TEP7KYICA_10435-1230-10947-1742.png to s3://proyecto-agricultura-precision-mineria/dataset/train/bounds/storm_damage/TEP7KYICA_10435-1230-10947-1742.png\n",
      "copy: s3://agriculture-vision-analitics/Dataset/data2018_miniscale/field_bounds/ERUT1A634_6911-5904-7423-6416.png to s3://proyecto-agricultura-precision-mineria/dataset/train/bounds/storm_damage/ERUT1A634_6911-5904-7423-6416.png\n",
      "copy: s3://agriculture-vision-analitics/Dataset/data2018_miniscale/field_bounds/2ZTIQA3AV_4605-3623-5117-4135.png to s3://proyecto-agricultura-precision-mineria/dataset/train/bounds/storm_damage/2ZTIQA3AV_4605-3623-5117-4135.png\n",
      "copy: s3://agriculture-vision-analitics/Dataset/data2018_miniscale/field_bounds/X32DPL33V_3022-5080-3534-5592.png to s3://proyecto-agricultura-precision-mineria/dataset/train/bounds/storm_damage/X32DPL33V_3022-5080-3534-5592.png\n",
      "copy: s3://agriculture-vision-analitics/Dataset/data2018_miniscale/field_bounds/QW9RQA76P_3842-523-4354-1035.png to s3://proyecto-agricultura-precision-mineria/dataset/train/bounds/storm_damage/QW9RQA76P_3842-523-4354-1035.png\n",
      "copy: s3://agriculture-vision-analitics/Dataset/data2018_miniscale/field_bounds/XZKR2ZJDB_10467-7394-10979-7906.png to s3://proyecto-agricultura-precision-mineria/dataset/train/bounds/storm_damage/XZKR2ZJDB_10467-7394-10979-7906.png\n",
      "copy: s3://agriculture-vision-analitics/Dataset/data2018_miniscale/field_bounds/X32DPL33V_1017-4773-1529-5285.png to s3://proyecto-agricultura-precision-mineria/dataset/train/bounds/storm_damage/X32DPL33V_1017-4773-1529-5285.png\n",
      "copy: s3://agriculture-vision-analitics/Dataset/data2018_miniscale/field_bounds/QW9RQA76P_4730-788-5242-1300.png to s3://proyecto-agricultura-precision-mineria/dataset/train/bounds/storm_damage/QW9RQA76P_4730-788-5242-1300.png\n",
      "copy: s3://agriculture-vision-analitics/Dataset/data2018_miniscale/field_bounds/X32DPL33V_1063-8265-1575-8777.png to s3://proyecto-agricultura-precision-mineria/dataset/train/bounds/storm_damage/X32DPL33V_1063-8265-1575-8777.png\n",
      "copy: s3://agriculture-vision-analitics/Dataset/data2018_miniscale/field_bounds/X32DPL33V_4804-6980-5316-7492.png to s3://proyecto-agricultura-precision-mineria/dataset/train/bounds/storm_damage/X32DPL33V_4804-6980-5316-7492.png\n",
      "copy: s3://agriculture-vision-analitics/Dataset/data2018_miniscale/field_bounds/ERUT1A634_6386-8029-6898-8541.png to s3://proyecto-agricultura-precision-mineria/dataset/train/bounds/storm_damage/ERUT1A634_6386-8029-6898-8541.png\n"
     ]
    },
    {
     "name": "stdout",
     "output_type": "stream",
     "text": [
      "copy: s3://agriculture-vision-analitics/Dataset/data2018_miniscale/field_bounds/X32DPL33V_3126-6228-3638-6740.png to s3://proyecto-agricultura-precision-mineria/dataset/train/bounds/storm_damage/X32DPL33V_3126-6228-3638-6740.png\n",
      "copy: s3://agriculture-vision-analitics/Dataset/data2018_miniscale/field_bounds/QW9RQA76P_4295-1227-4807-1739.png to s3://proyecto-agricultura-precision-mineria/dataset/train/bounds/storm_damage/QW9RQA76P_4295-1227-4807-1739.png\n",
      "copy: s3://agriculture-vision-analitics/Dataset/data2018_miniscale/field_bounds/X32DPL33V_1826-6711-2338-7223.png to s3://proyecto-agricultura-precision-mineria/dataset/train/bounds/storm_damage/X32DPL33V_1826-6711-2338-7223.png\n",
      "copy: s3://agriculture-vision-analitics/Dataset/data2018_miniscale/field_bounds/X32DPL33V_4046-5080-4558-5592.png to s3://proyecto-agricultura-precision-mineria/dataset/train/bounds/storm_damage/X32DPL33V_4046-5080-4558-5592.png\n",
      "copy: s3://agriculture-vision-analitics/Dataset/data2018_miniscale/field_bounds/2ZTIQA3AV_7616-3841-8128-4353.png to s3://proyecto-agricultura-precision-mineria/dataset/train/bounds/storm_damage/2ZTIQA3AV_7616-3841-8128-4353.png\n",
      "copy: s3://agriculture-vision-analitics/Dataset/data2018_miniscale/field_bounds/X32DPL33V_1486-3544-1998-4056.png to s3://proyecto-agricultura-precision-mineria/dataset/train/bounds/storm_damage/X32DPL33V_1486-3544-1998-4056.png\n",
      "copy: s3://agriculture-vision-analitics/Dataset/data2018_miniscale/field_bounds/X32DPL33V_5070-984-5582-1496.png to s3://proyecto-agricultura-precision-mineria/dataset/train/bounds/storm_damage/X32DPL33V_5070-984-5582-1496.png\n",
      "copy: s3://agriculture-vision-analitics/Dataset/data2018_miniscale/field_bounds/X32DPL33V_1883-1081-2395-1593.png to s3://proyecto-agricultura-precision-mineria/dataset/train/bounds/storm_damage/X32DPL33V_1883-1081-2395-1593.png\n",
      "copy: s3://agriculture-vision-analitics/Dataset/data2018_miniscale/field_bounds/X32DPL33V_2338-6711-2850-7223.png to s3://proyecto-agricultura-precision-mineria/dataset/train/bounds/storm_damage/X32DPL33V_2338-6711-2850-7223.png\n",
      "copy: s3://agriculture-vision-analitics/Dataset/data2018_miniscale/field_bounds/ERUT1A634_6186-7480-6698-7992.png to s3://proyecto-agricultura-precision-mineria/dataset/train/bounds/storm_damage/ERUT1A634_6186-7480-6698-7992.png\n",
      "copy: s3://agriculture-vision-analitics/Dataset/data2018_miniscale/field_bounds/X32DPL33V_2510-1496-3022-2008.png to s3://proyecto-agricultura-precision-mineria/dataset/train/bounds/storm_damage/X32DPL33V_2510-1496-3022-2008.png\n",
      "copy: s3://agriculture-vision-analitics/Dataset/data2018_miniscale/field_bounds/X32DPL33V_5582-984-6094-1496.png to s3://proyecto-agricultura-precision-mineria/dataset/train/bounds/storm_damage/X32DPL33V_5582-984-6094-1496.png\n",
      "copy: s3://agriculture-vision-analitics/Dataset/data2018_miniscale/field_bounds/X32DPL33V_4558-4056-5070-4568.png to s3://proyecto-agricultura-precision-mineria/dataset/train/bounds/storm_damage/X32DPL33V_4558-4056-5070-4568.png\n",
      "copy: s3://agriculture-vision-analitics/Dataset/data2018_miniscale/field_bounds/ERUT1A634_6718-4314-7230-4826.png to s3://proyecto-agricultura-precision-mineria/dataset/train/bounds/storm_damage/ERUT1A634_6718-4314-7230-4826.png\n",
      "copy: s3://agriculture-vision-analitics/Dataset/data2018_miniscale/field_bounds/X32DPL33V_4046-4568-4558-5080.png to s3://proyecto-agricultura-precision-mineria/dataset/train/bounds/storm_damage/X32DPL33V_4046-4568-4558-5080.png\n",
      "copy: s3://agriculture-vision-analitics/Dataset/data2018_miniscale/field_bounds/2ZTIQA3AV_6402-3371-6914-3883.png to s3://proyecto-agricultura-precision-mineria/dataset/train/bounds/storm_damage/2ZTIQA3AV_6402-3371-6914-3883.png\n",
      "copy: s3://agriculture-vision-analitics/Dataset/data2018_miniscale/field_bounds/2ZTIQA3AV_8628-3570-9140-4082.png to s3://proyecto-agricultura-precision-mineria/dataset/train/bounds/storm_damage/2ZTIQA3AV_8628-3570-9140-4082.png\n",
      "copy: s3://agriculture-vision-analitics/Dataset/data2018_miniscale/field_bounds/X32DPL33V_4558-6104-5070-6616.png to s3://proyecto-agricultura-precision-mineria/dataset/train/bounds/storm_damage/X32DPL33V_4558-6104-5070-6616.png\n",
      "copy: s3://agriculture-vision-analitics/Dataset/data2018_miniscale/field_bounds/ERUT1A634_6348-4728-6860-5240.png to s3://proyecto-agricultura-precision-mineria/dataset/train/bounds/storm_damage/ERUT1A634_6348-4728-6860-5240.png\n",
      "copy: s3://agriculture-vision-analitics/Dataset/data2018_miniscale/field_bounds/QW9RQA76P_11065-955-11577-1467.png to s3://proyecto-agricultura-precision-mineria/dataset/train/bounds/storm_damage/QW9RQA76P_11065-955-11577-1467.png\n",
      "copy: s3://agriculture-vision-analitics/Dataset/data2018_miniscale/field_bounds/QW9RQA76P_4546-996-5058-1508.png to s3://proyecto-agricultura-precision-mineria/dataset/train/bounds/storm_damage/QW9RQA76P_4546-996-5058-1508.png\n",
      "copy: s3://agriculture-vision-analitics/Dataset/data2018_miniscale/field_bounds/X32DPL33V_3022-5592-3534-6104.png to s3://proyecto-agricultura-precision-mineria/dataset/train/bounds/storm_damage/X32DPL33V_3022-5592-3534-6104.png\n",
      "copy: s3://agriculture-vision-analitics/Dataset/data2018_miniscale/field_bounds/DQEV2LHCV_5257-1413-5769-1925.png to s3://proyecto-agricultura-precision-mineria/dataset/train/bounds/storm_damage/DQEV2LHCV_5257-1413-5769-1925.png\n",
      "copy: s3://agriculture-vision-analitics/Dataset/data2018_miniscale/field_bounds/QW9RQA76P_2941-1346-3453-1858.png to s3://proyecto-agricultura-precision-mineria/dataset/train/bounds/storm_damage/QW9RQA76P_2941-1346-3453-1858.png\n",
      "copy: s3://agriculture-vision-analitics/Dataset/data2018_miniscale/field_bounds/X32DPL33V_1433-700-1945-1212.png to s3://proyecto-agricultura-precision-mineria/dataset/train/bounds/storm_damage/X32DPL33V_1433-700-1945-1212.png\n",
      "copy: s3://agriculture-vision-analitics/Dataset/data2018_miniscale/field_bounds/QW9RQA76P_6817-786-7329-1298.png to s3://proyecto-agricultura-precision-mineria/dataset/train/bounds/storm_damage/QW9RQA76P_6817-786-7329-1298.png\n",
      "copy: s3://agriculture-vision-analitics/Dataset/data2018_miniscale/field_bounds/ERUT1A634_6765-3266-7277-3778.png to s3://proyecto-agricultura-precision-mineria/dataset/train/bounds/storm_damage/ERUT1A634_6765-3266-7277-3778.png\n",
      "copy: s3://agriculture-vision-analitics/Dataset/data2018_miniscale/field_bounds/EZ4BZ8A21_2044-1010-2556-1522.png to s3://proyecto-agricultura-precision-mineria/dataset/train/bounds/storm_damage/EZ4BZ8A21_2044-1010-2556-1522.png\n",
      "copy: s3://agriculture-vision-analitics/Dataset/data2018_miniscale/field_bounds/QW9RQA76P_5225-1924-5737-2436.png to s3://proyecto-agricultura-precision-mineria/dataset/train/bounds/storm_damage/QW9RQA76P_5225-1924-5737-2436.png\n",
      "copy: s3://agriculture-vision-analitics/Dataset/data2018_miniscale/field_bounds/X32DPL33V_6094-2008-6606-2520.png to s3://proyecto-agricultura-precision-mineria/dataset/train/bounds/storm_damage/X32DPL33V_6094-2008-6606-2520.png\n",
      "copy: s3://agriculture-vision-analitics/Dataset/data2018_miniscale/field_bounds/QW9RQA76P_3943-1668-4455-2180.png to s3://proyecto-agricultura-precision-mineria/dataset/train/bounds/storm_damage/QW9RQA76P_3943-1668-4455-2180.png\n",
      "copy: s3://agriculture-vision-analitics/Dataset/data2018_miniscale/field_bounds/QW9RQA76P_7609-750-8121-1262.png to s3://proyecto-agricultura-precision-mineria/dataset/train/bounds/storm_damage/QW9RQA76P_7609-750-8121-1262.png\n",
      "copy: s3://agriculture-vision-analitics/Dataset/data2018_miniscale/field_bounds/QW9RQA76P_7315-1279-7827-1791.png to s3://proyecto-agricultura-precision-mineria/dataset/train/bounds/storm_damage/QW9RQA76P_7315-1279-7827-1791.png\n",
      "copy: s3://agriculture-vision-analitics/Dataset/data2018_miniscale/field_bounds/X32DPL33V_3022-2520-3534-3032.png to s3://proyecto-agricultura-precision-mineria/dataset/train/bounds/storm_damage/X32DPL33V_3022-2520-3534-3032.png\n",
      "copy: s3://agriculture-vision-analitics/Dataset/data2018_miniscale/field_bounds/X32DPL33V_3534-2008-4046-2520.png to s3://proyecto-agricultura-precision-mineria/dataset/train/bounds/storm_damage/X32DPL33V_3534-2008-4046-2520.png\n",
      "copy: s3://agriculture-vision-analitics/Dataset/data2018_miniscale/field_bounds/2ZTIQA3AV_7957-3751-8469-4263.png to s3://proyecto-agricultura-precision-mineria/dataset/train/bounds/storm_damage/2ZTIQA3AV_7957-3751-8469-4263.png\n"
     ]
    },
    {
     "name": "stdout",
     "output_type": "stream",
     "text": [
      "copy: s3://agriculture-vision-analitics/Dataset/data2018_miniscale/field_bounds/X32DPL33V_4891-1674-5403-2186.png to s3://proyecto-agricultura-precision-mineria/dataset/train/bounds/storm_damage/X32DPL33V_4891-1674-5403-2186.png\n",
      "copy: s3://agriculture-vision-analitics/Dataset/data2018_miniscale/field_bounds/X32DPL33V_1486-6104-1998-6616.png to s3://proyecto-agricultura-precision-mineria/dataset/train/bounds/storm_damage/X32DPL33V_1486-6104-1998-6616.png\n",
      "copy: s3://agriculture-vision-analitics/Dataset/data2018_miniscale/field_bounds/X32DPL33V_3638-6228-4150-6740.png to s3://proyecto-agricultura-precision-mineria/dataset/train/bounds/storm_damage/X32DPL33V_3638-6228-4150-6740.png\n",
      "copy: s3://agriculture-vision-analitics/Dataset/data2018_miniscale/field_bounds/ERUT1A634_7275-2472-7787-2984.png to s3://proyecto-agricultura-precision-mineria/dataset/train/bounds/storm_damage/ERUT1A634_7275-2472-7787-2984.png\n",
      "copy: s3://agriculture-vision-analitics/Dataset/data2018_miniscale/field_bounds/X32DPL33V_4650-747-5162-1259.png to s3://proyecto-agricultura-precision-mineria/dataset/train/bounds/storm_damage/X32DPL33V_4650-747-5162-1259.png\n",
      "copy: s3://agriculture-vision-analitics/Dataset/data2018_miniscale/field_bounds/X32DPL33V_4891-1162-5403-1674.png to s3://proyecto-agricultura-precision-mineria/dataset/train/bounds/storm_damage/X32DPL33V_4891-1162-5403-1674.png\n",
      "copy: s3://agriculture-vision-analitics/Dataset/data2018_miniscale/field_bounds/X32DPL33V_3534-5080-4046-5592.png to s3://proyecto-agricultura-precision-mineria/dataset/train/bounds/storm_damage/X32DPL33V_3534-5080-4046-5592.png\n",
      "copy: s3://agriculture-vision-analitics/Dataset/data2018_miniscale/field_bounds/X32DPL33V_866-2505-1378-3017.png to s3://proyecto-agricultura-precision-mineria/dataset/train/bounds/storm_damage/X32DPL33V_866-2505-1378-3017.png\n",
      "copy: s3://agriculture-vision-analitics/Dataset/data2018_miniscale/field_bounds/X32DPL33V_1486-4568-1998-5080.png to s3://proyecto-agricultura-precision-mineria/dataset/train/bounds/storm_damage/X32DPL33V_1486-4568-1998-5080.png\n",
      "copy: s3://agriculture-vision-analitics/Dataset/data2018_miniscale/field_bounds/QW9RQA76P_3362-2076-3874-2588.png to s3://proyecto-agricultura-precision-mineria/dataset/train/bounds/storm_damage/QW9RQA76P_3362-2076-3874-2588.png\n",
      "copy: s3://agriculture-vision-analitics/Dataset/data2018_miniscale/field_bounds/X32DPL33V_2174-7716-2686-8228.png to s3://proyecto-agricultura-precision-mineria/dataset/train/bounds/storm_damage/X32DPL33V_2174-7716-2686-8228.png\n",
      "copy: s3://agriculture-vision-analitics/Dataset/data2018_miniscale/field_bounds/E9HLQ7DQ1_7372-528-7884-1040.png to s3://proyecto-agricultura-precision-mineria/dataset/train/bounds/storm_damage/E9HLQ7DQ1_7372-528-7884-1040.png\n",
      "copy: s3://agriculture-vision-analitics/Dataset/data2018_miniscale/field_bounds/QW9RQA76P_10553-955-11065-1467.png to s3://proyecto-agricultura-precision-mineria/dataset/train/bounds/storm_damage/QW9RQA76P_10553-955-11065-1467.png\n",
      "copy: s3://agriculture-vision-analitics/Dataset/data2018_miniscale/field_bounds/DQEV2LHCV_12108-6119-12620-6631.png to s3://proyecto-agricultura-precision-mineria/dataset/train/bounds/storm_damage/DQEV2LHCV_12108-6119-12620-6631.png\n",
      "copy: s3://agriculture-vision-analitics/Dataset/data2018_miniscale/field_bounds/X32DPL33V_2395-1081-2907-1593.png to s3://proyecto-agricultura-precision-mineria/dataset/train/bounds/storm_damage/X32DPL33V_2395-1081-2907-1593.png\n",
      "copy: s3://agriculture-vision-analitics/Dataset/data2018_miniscale/field_bounds/X32DPL33V_5799-4075-6311-4587.png to s3://proyecto-agricultura-precision-mineria/dataset/train/bounds/storm_damage/X32DPL33V_5799-4075-6311-4587.png\n",
      "copy: s3://agriculture-vision-analitics/Dataset/data2018_miniscale/field_bounds/QW9RQA76P_6058-1583-6570-2095.png to s3://proyecto-agricultura-precision-mineria/dataset/train/bounds/storm_damage/QW9RQA76P_6058-1583-6570-2095.png\n",
      "copy: s3://agriculture-vision-analitics/Dataset/data2018_miniscale/field_bounds/X32DPL33V_1945-700-2457-1212.png to s3://proyecto-agricultura-precision-mineria/dataset/train/bounds/storm_damage/X32DPL33V_1945-700-2457-1212.png\n",
      "copy: s3://agriculture-vision-analitics/Dataset/data2018_miniscale/field_bounds/2ZTIQA3AV_4131-3961-4643-4473.png to s3://proyecto-agricultura-precision-mineria/dataset/train/bounds/storm_damage/2ZTIQA3AV_4131-3961-4643-4473.png\n",
      "copy: s3://agriculture-vision-analitics/Dataset/data2018_miniscale/field_bounds/XZKR2ZJDB_9518-3229-10030-3741.png to s3://proyecto-agricultura-precision-mineria/dataset/train/bounds/storm_damage/XZKR2ZJDB_9518-3229-10030-3741.png\n",
      "copy: s3://agriculture-vision-analitics/Dataset/data2018_miniscale/field_bounds/QW9RQA76P_6411-506-6923-1018.png to s3://proyecto-agricultura-precision-mineria/dataset/train/bounds/storm_damage/QW9RQA76P_6411-506-6923-1018.png\n",
      "copy: s3://agriculture-vision-analitics/Dataset/data2018_miniscale/field_bounds/DQEV2LHCV_5480-1599-5992-2111.png to s3://proyecto-agricultura-precision-mineria/dataset/train/bounds/storm_damage/DQEV2LHCV_5480-1599-5992-2111.png\n",
      "copy: s3://agriculture-vision-analitics/Dataset/data2018_miniscale/field_bounds/X32DPL33V_859-1593-1371-2105.png to s3://proyecto-agricultura-precision-mineria/dataset/train/bounds/storm_damage/X32DPL33V_859-1593-1371-2105.png\n",
      "copy: s3://agriculture-vision-analitics/Dataset/data2018_miniscale/field_bounds/QW9RQA76P_5380-507-5892-1019.png to s3://proyecto-agricultura-precision-mineria/dataset/train/bounds/storm_damage/QW9RQA76P_5380-507-5892-1019.png\n",
      "copy: s3://agriculture-vision-analitics/Dataset/data2018_miniscale/field_bounds/2ZTIQA3AV_5600-3813-6112-4325.png to s3://proyecto-agricultura-precision-mineria/dataset/train/bounds/storm_damage/2ZTIQA3AV_5600-3813-6112-4325.png\n",
      "copy: s3://agriculture-vision-analitics/Dataset/data2018_miniscale/field_bounds/ERUT1A634_6763-2472-7275-2984.png to s3://proyecto-agricultura-precision-mineria/dataset/train/bounds/storm_damage/ERUT1A634_6763-2472-7275-2984.png\n",
      "copy: s3://agriculture-vision-analitics/Dataset/data2018_miniscale/field_bounds/ERUT1A634_6232-6308-6744-6820.png to s3://proyecto-agricultura-precision-mineria/dataset/train/bounds/storm_damage/ERUT1A634_6232-6308-6744-6820.png\n",
      "copy: s3://agriculture-vision-analitics/Dataset/data2018_miniscale/field_bounds/XZKR2ZJDB_8399-3861-8911-4373.png to s3://proyecto-agricultura-precision-mineria/dataset/train/bounds/storm_damage/XZKR2ZJDB_8399-3861-8911-4373.png\n",
      "copy: s3://agriculture-vision-analitics/Dataset/data2018_miniscale/field_bounds/X32DPL33V_4379-1162-4891-1674.png to s3://proyecto-agricultura-precision-mineria/dataset/train/bounds/storm_damage/X32DPL33V_4379-1162-4891-1674.png\n",
      "copy: s3://agriculture-vision-analitics/Dataset/data2018_miniscale/field_bounds/XZKR2ZJDB_11246-1811-11758-2323.png to s3://proyecto-agricultura-precision-mineria/dataset/train/bounds/storm_damage/XZKR2ZJDB_11246-1811-11758-2323.png\n",
      "copy: s3://agriculture-vision-analitics/Dataset/data2018_miniscale/field_bounds/X32DPL33V_1998-6104-2510-6616.png to s3://proyecto-agricultura-precision-mineria/dataset/train/bounds/storm_damage/X32DPL33V_1998-6104-2510-6616.png\n",
      "copy: s3://agriculture-vision-analitics/Dataset/data2018_miniscale/field_bounds/XZKR2ZJDB_9201-641-9713-1153.png to s3://proyecto-agricultura-precision-mineria/dataset/train/bounds/storm_damage/XZKR2ZJDB_9201-641-9713-1153.png\n",
      "copy: s3://agriculture-vision-analitics/Dataset/data2018_miniscale/field_bounds/X32DPL33V_5335-6934-5847-7446.png to s3://proyecto-agricultura-precision-mineria/dataset/train/bounds/storm_damage/X32DPL33V_5335-6934-5847-7446.png\n",
      "copy: s3://agriculture-vision-analitics/Dataset/data2018_miniscale/field_bounds/TEP7KYICA_11386-937-11898-1449.png to s3://proyecto-agricultura-precision-mineria/dataset/train/bounds/storm_damage/TEP7KYICA_11386-937-11898-1449.png\n",
      "copy: s3://agriculture-vision-analitics/Dataset/data2018_miniscale/field_bounds/DQEV2LHCV_4977-506-5489-1018.png to s3://proyecto-agricultura-precision-mineria/dataset/train/bounds/storm_damage/DQEV2LHCV_4977-506-5489-1018.png\n",
      "copy: s3://agriculture-vision-analitics/Dataset/data2018_miniscale/field_bounds/X32DPL33V_1017-5285-1529-5797.png to s3://proyecto-agricultura-precision-mineria/dataset/train/bounds/storm_damage/X32DPL33V_1017-5285-1529-5797.png\n"
     ]
    },
    {
     "name": "stdout",
     "output_type": "stream",
     "text": [
      "copy: s3://agriculture-vision-analitics/Dataset/data2018_miniscale/field_bounds/X32DPL33V_1017-5797-1529-6309.png to s3://proyecto-agricultura-precision-mineria/dataset/train/bounds/storm_damage/X32DPL33V_1017-5797-1529-6309.png\n",
      "copy: s3://agriculture-vision-analitics/Dataset/data2018_miniscale/field_bounds/QW9RQA76P_2164-1303-2676-1815.png to s3://proyecto-agricultura-precision-mineria/dataset/train/bounds/storm_damage/QW9RQA76P_2164-1303-2676-1815.png\n",
      "copy: s3://agriculture-vision-analitics/Dataset/data2018_miniscale/field_bounds/QW9RQA76P_5749-1278-6261-1790.png to s3://proyecto-agricultura-precision-mineria/dataset/train/bounds/storm_damage/QW9RQA76P_5749-1278-6261-1790.png\n",
      "copy: s3://agriculture-vision-analitics/Dataset/data2018_miniscale/field_bounds/2ZTIQA3AV_6978-3279-7490-3791.png to s3://proyecto-agricultura-precision-mineria/dataset/train/bounds/storm_damage/2ZTIQA3AV_6978-3279-7490-3791.png\n",
      "copy: s3://agriculture-vision-analitics/Dataset/data2018_miniscale/field_bounds/XZKR2ZJDB_10467-6882-10979-7394.png to s3://proyecto-agricultura-precision-mineria/dataset/train/bounds/storm_damage/XZKR2ZJDB_10467-6882-10979-7394.png\n",
      "copy: s3://agriculture-vision-analitics/Dataset/data2018_miniscale/field_bounds/X32DPL33V_4138-747-4650-1259.png to s3://proyecto-agricultura-precision-mineria/dataset/train/bounds/storm_damage/X32DPL33V_4138-747-4650-1259.png\n",
      "copy: s3://agriculture-vision-analitics/Dataset/data2018_miniscale/field_bounds/2ZTIQA3AV_4231-3712-4743-4224.png to s3://proyecto-agricultura-precision-mineria/dataset/train/bounds/storm_damage/2ZTIQA3AV_4231-3712-4743-4224.png\n",
      "copy: s3://agriculture-vision-analitics/Dataset/data2018_miniscale/field_bounds/X32DPL33V_2907-1593-3419-2105.png to s3://proyecto-agricultura-precision-mineria/dataset/train/bounds/storm_damage/X32DPL33V_2907-1593-3419-2105.png\n",
      "copy: s3://agriculture-vision-analitics/Dataset/data2018_miniscale/field_bounds/QW9RQA76P_3216-1045-3728-1557.png to s3://proyecto-agricultura-precision-mineria/dataset/train/bounds/storm_damage/QW9RQA76P_3216-1045-3728-1557.png\n",
      "copy: s3://agriculture-vision-analitics/Dataset/data2018_miniscale/field_bounds/X32DPL33V_3534-2520-4046-3032.png to s3://proyecto-agricultura-precision-mineria/dataset/train/bounds/storm_damage/X32DPL33V_3534-2520-4046-3032.png\n",
      "copy: s3://agriculture-vision-analitics/Dataset/data2018_miniscale/field_bounds/X32DPL33V_3850-4353-4362-4865.png to s3://proyecto-agricultura-precision-mineria/dataset/train/bounds/storm_damage/X32DPL33V_3850-4353-4362-4865.png\n",
      "copy: s3://agriculture-vision-analitics/Dataset/data2018_miniscale/field_bounds/DQEV2LHCV_12340-5220-12852-5732.png to s3://proyecto-agricultura-precision-mineria/dataset/train/bounds/storm_damage/DQEV2LHCV_12340-5220-12852-5732.png\n",
      "copy: s3://agriculture-vision-analitics/Dataset/data2018_miniscale/field_bounds/X32DPL33V_3637-5399-4149-5911.png to s3://proyecto-agricultura-precision-mineria/dataset/train/bounds/storm_damage/X32DPL33V_3637-5399-4149-5911.png\n",
      "copy: s3://agriculture-vision-analitics/Dataset/data2018_miniscale/field_bounds/X32DPL33V_2457-700-2969-1212.png to s3://proyecto-agricultura-precision-mineria/dataset/train/bounds/storm_damage/X32DPL33V_2457-700-2969-1212.png\n",
      "copy: s3://agriculture-vision-analitics/Dataset/data2018_miniscale/field_bounds/X32DPL33V_4379-1674-4891-2186.png to s3://proyecto-agricultura-precision-mineria/dataset/train/bounds/storm_damage/X32DPL33V_4379-1674-4891-2186.png\n",
      "copy: s3://agriculture-vision-analitics/Dataset/data2018_miniscale/field_bounds/2ZTIQA3AV_5902-3938-6414-4450.png to s3://proyecto-agricultura-precision-mineria/dataset/train/bounds/storm_damage/2ZTIQA3AV_5902-3938-6414-4450.png\n",
      "copy: s3://agriculture-vision-analitics/Dataset/data2018_miniscale/field_bounds/X32DPL33V_1486-2008-1998-2520.png to s3://proyecto-agricultura-precision-mineria/dataset/train/bounds/storm_damage/X32DPL33V_1486-2008-1998-2520.png\n",
      "copy: s3://agriculture-vision-analitics/Dataset/data2018_miniscale/field_bounds/EZ4BZ8A21_2149-1920-2661-2432.png to s3://proyecto-agricultura-precision-mineria/dataset/train/bounds/storm_damage/EZ4BZ8A21_2149-1920-2661-2432.png\n",
      "copy: s3://agriculture-vision-analitics/Dataset/data2018_miniscale/field_bounds/X32DPL33V_3534-3032-4046-3544.png to s3://proyecto-agricultura-precision-mineria/dataset/train/bounds/storm_damage/X32DPL33V_3534-3032-4046-3544.png\n",
      "copy: s3://agriculture-vision-analitics/Dataset/data2018_miniscale/field_bounds/XZKR2ZJDB_11246-2323-11758-2835.png to s3://proyecto-agricultura-precision-mineria/dataset/train/bounds/storm_damage/XZKR2ZJDB_11246-2323-11758-2835.png\n",
      "copy: s3://agriculture-vision-analitics/Dataset/data2018_miniscale/field_bounds/X32DPL33V_1017-4261-1529-4773.png to s3://proyecto-agricultura-precision-mineria/dataset/train/bounds/storm_damage/X32DPL33V_1017-4261-1529-4773.png\n",
      "copy: s3://agriculture-vision-analitics/Dataset/data2018_miniscale/field_bounds/ERUT1A634_6910-4563-7422-5075.png to s3://proyecto-agricultura-precision-mineria/dataset/train/bounds/storm_damage/ERUT1A634_6910-4563-7422-5075.png\n",
      "copy: s3://agriculture-vision-analitics/Dataset/data2018_miniscale/field_bounds/X32DPL33V_3534-4568-4046-5080.png to s3://proyecto-agricultura-precision-mineria/dataset/train/bounds/storm_damage/X32DPL33V_3534-4568-4046-5080.png\n",
      "copy: s3://agriculture-vision-analitics/Dataset/data2018_miniscale/field_bounds/2ZTIQA3AV_8215-3569-8727-4081.png to s3://proyecto-agricultura-precision-mineria/dataset/train/bounds/storm_damage/2ZTIQA3AV_8215-3569-8727-4081.png\n",
      "copy: s3://agriculture-vision-analitics/Dataset/data2018_miniscale/field_bounds/X32DPL33V_2174-8228-2686-8740.png to s3://proyecto-agricultura-precision-mineria/dataset/train/bounds/storm_damage/X32DPL33V_2174-8228-2686-8740.png\n",
      "copy: s3://agriculture-vision-analitics/Dataset/data2018_miniscale/field_bounds/X32DPL33V_4046-1496-4558-2008.png to s3://proyecto-agricultura-precision-mineria/dataset/train/bounds/storm_damage/X32DPL33V_4046-1496-4558-2008.png\n",
      "copy: s3://agriculture-vision-analitics/Dataset/data2018_miniscale/field_bounds/2ZTIQA3AV_5047-3515-5559-4027.png to s3://proyecto-agricultura-precision-mineria/dataset/train/bounds/storm_damage/2ZTIQA3AV_5047-3515-5559-4027.png\n",
      "copy: s3://agriculture-vision-analitics/Dataset/data2018_miniscale/field_bounds/QW9RQA76P_5756-1823-6268-2335.png to s3://proyecto-agricultura-precision-mineria/dataset/train/bounds/storm_damage/QW9RQA76P_5756-1823-6268-2335.png\n",
      "copy: s3://agriculture-vision-analitics/Dataset/data2018_miniscale/field_bounds/ERUT1A634_7413-6989-7925-7501.png to s3://proyecto-agricultura-precision-mineria/dataset/train/bounds/storm_damage/ERUT1A634_7413-6989-7925-7501.png\n",
      "copy: s3://agriculture-vision-analitics/Dataset/data2018_miniscale/field_bounds/2ZTIQA3AV_7574-3160-8086-3672.png to s3://proyecto-agricultura-precision-mineria/dataset/train/bounds/storm_damage/2ZTIQA3AV_7574-3160-8086-3672.png\n",
      "copy: s3://agriculture-vision-analitics/Dataset/data2018_miniscale/field_bounds/QW9RQA76P_6261-1278-6773-1790.png to s3://proyecto-agricultura-precision-mineria/dataset/train/bounds/storm_damage/QW9RQA76P_6261-1278-6773-1790.png\n",
      "copy: s3://agriculture-vision-analitics/Dataset/data2018_miniscale/field_bounds/QW9RQA76P_4807-1739-5319-2251.png to s3://proyecto-agricultura-precision-mineria/dataset/train/bounds/storm_damage/QW9RQA76P_4807-1739-5319-2251.png\n",
      "copy: s3://agriculture-vision-analitics/Dataset/data2018_miniscale/field_bounds/X32DPL33V_1998-1496-2510-2008.png to s3://proyecto-agricultura-precision-mineria/dataset/train/bounds/storm_damage/X32DPL33V_1998-1496-2510-2008.png\n",
      "copy: s3://agriculture-vision-analitics/Dataset/data2018_miniscale/field_bounds/EZ4BZ8A21_2732-1725-3244-2237.png to s3://proyecto-agricultura-precision-mineria/dataset/train/bounds/storm_damage/EZ4BZ8A21_2732-1725-3244-2237.png\n",
      "copy: s3://agriculture-vision-analitics/Dataset/data2018_miniscale/field_bounds/ERUT1A634_6765-2754-7277-3266.png to s3://proyecto-agricultura-precision-mineria/dataset/train/bounds/storm_damage/ERUT1A634_6765-2754-7277-3266.png\n",
      "copy: s3://agriculture-vision-analitics/Dataset/data2018_miniscale/field_bounds/TEP7KYICA_11544-648-12056-1160.png to s3://proyecto-agricultura-precision-mineria/dataset/train/bounds/storm_damage/TEP7KYICA_11544-648-12056-1160.png\n"
     ]
    },
    {
     "name": "stdout",
     "output_type": "stream",
     "text": [
      "copy: s3://agriculture-vision-analitics/Dataset/data2018_miniscale/field_bounds/DQEV2LHCV_12620-5607-13132-6119.png to s3://proyecto-agricultura-precision-mineria/dataset/train/bounds/storm_damage/DQEV2LHCV_12620-5607-13132-6119.png\n",
      "copy: s3://agriculture-vision-analitics/Dataset/data2018_miniscale/field_bounds/X32DPL33V_4046-3032-4558-3544.png to s3://proyecto-agricultura-precision-mineria/dataset/train/bounds/storm_damage/X32DPL33V_4046-3032-4558-3544.png\n",
      "copy: s3://agriculture-vision-analitics/Dataset/data2018_miniscale/field_bounds/ERUT1A634_6348-5240-6860-5752.png to s3://proyecto-agricultura-precision-mineria/dataset/train/bounds/storm_damage/ERUT1A634_6348-5240-6860-5752.png\n",
      "copy: s3://agriculture-vision-analitics/Dataset/data2018_miniscale/field_bounds/6MCJ8L1PM_4051-1276-4563-1788.png to s3://proyecto-agricultura-precision-mineria/dataset/train/bounds/storm_damage/6MCJ8L1PM_4051-1276-4563-1788.png\n"
     ]
    }
   ],
   "source": [
    "# imagenes categoria storm_damage para RGB.\n",
    "try:\n",
    "    cont = 0\n",
    "    nombreDataset = train_val_storm_damage\n",
    "    categoria = 'storm_damage'\n",
    "    for idx, valor in enumerate(nombreDataset.nombreImg):\n",
    "        anho = nombreDataset['año'].iloc[idx]\n",
    "        ubicacionImg = 's3://agriculture-vision-analitics/Dataset/data{}_miniscale/field_bounds/{}.png'.format(anho,valor)\n",
    "        ubicacionImgNew = 's3://proyecto-agricultura-precision-mineria/dataset/train/bounds/{}/{}.png'.format(categoria,valor)\n",
    "        \n",
    "        !aws s3 cp $ubicacionImg $ubicacionImgNew\n",
    "        \n",
    "        cont = cont+1\n",
    "    print(\"Se cargaron\" + str(cont) + \" imagenes\")\n",
    "    \n",
    "except Exception as e:\n",
    "    print('Error al cargar la imagen: ',e)"
   ]
  },
  {
   "cell_type": "code",
   "execution_count": null,
   "metadata": {},
   "outputs": [],
   "source": []
  }
 ],
 "metadata": {
  "kernelspec": {
   "display_name": "Python 3",
   "language": "python",
   "name": "python3"
  },
  "language_info": {
   "codemirror_mode": {
    "name": "ipython",
    "version": 3
   },
   "file_extension": ".py",
   "mimetype": "text/x-python",
   "name": "python",
   "nbconvert_exporter": "python",
   "pygments_lexer": "ipython3",
   "version": "3.8.5"
  }
 },
 "nbformat": 4,
 "nbformat_minor": 5
}
